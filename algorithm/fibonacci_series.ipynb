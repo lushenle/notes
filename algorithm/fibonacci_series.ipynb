{
 "cells": [
  {
   "cell_type": "markdown",
   "id": "97a07586",
   "metadata": {},
   "source": [
    "$$F_{n+1}=F_n+F_{n-1}$$"
   ]
  },
  {
   "cell_type": "code",
   "execution_count": 1,
   "id": "11c04875",
   "metadata": {},
   "outputs": [],
   "source": [
    "import numpy as np"
   ]
  },
  {
   "cell_type": "code",
   "execution_count": 2,
   "id": "53c23817",
   "metadata": {},
   "outputs": [],
   "source": [
    "lmbd_1 = (1+np.sqrt(5))/2\n",
    "lmbd_2 = (1-np.sqrt(5))/2"
   ]
  },
  {
   "cell_type": "code",
   "execution_count": 3,
   "id": "27cbcd70",
   "metadata": {},
   "outputs": [],
   "source": [
    "a       = np.matrix([[1,      1],      [1,  0]])\n",
    "s       = np.matrix([[lmbd_1, lmbd_2], [1,  1]])\n",
    "s_inv   = np.matrix([[1,     -lmbd_2], [-1, lmbd_1]]) * (1/np.sqrt(5))\n",
    "eig_val = np.matrix([[lmbd_1, 0],      [0,  lmbd_2]])\n",
    "u_0     = np.matrix([[1],              [0]])"
   ]
  },
  {
   "cell_type": "code",
   "execution_count": 4,
   "id": "0733a824",
   "metadata": {},
   "outputs": [],
   "source": [
    "def eig_k(k):\n",
    "    return eig_val ** k"
   ]
  },
  {
   "cell_type": "code",
   "execution_count": 5,
   "id": "7a97f7a8",
   "metadata": {},
   "outputs": [],
   "source": [
    "def u_k(k):\n",
    "    return s * eig_k(k) * s_inv * u_0"
   ]
  },
  {
   "cell_type": "code",
   "execution_count": 6,
   "id": "fbcffb97",
   "metadata": {},
   "outputs": [],
   "source": [
    "def fib(n):\n",
    "    f_n = u_k(n)[1,0]\n",
    "    return int(round(f_n))"
   ]
  },
  {
   "cell_type": "code",
   "execution_count": 7,
   "id": "9bf34066",
   "metadata": {},
   "outputs": [
    {
     "data": {
      "text/plain": [
       "[0, 1, 1, 2, 3, 5, 8, 13, 21, 34, 55, 89, 144, 233, 377]"
      ]
     },
     "execution_count": 7,
     "metadata": {},
     "output_type": "execute_result"
    }
   ],
   "source": [
    "[fib(n) for n in range(15)]"
   ]
  }
 ],
 "metadata": {
  "kernelspec": {
   "display_name": "Python 3 (ipykernel)",
   "language": "python",
   "name": "python3"
  },
  "language_info": {
   "codemirror_mode": {
    "name": "ipython",
    "version": 3
   },
   "file_extension": ".py",
   "mimetype": "text/x-python",
   "name": "python",
   "nbconvert_exporter": "python",
   "pygments_lexer": "ipython3",
   "version": "3.9.7"
  }
 },
 "nbformat": 4,
 "nbformat_minor": 5
}
